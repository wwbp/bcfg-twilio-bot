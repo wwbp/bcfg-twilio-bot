{
 "cells": [
  {
   "cell_type": "code",
   "execution_count": 3,
   "id": "e74580b0-f901-4726-aa38-b35eea9f213e",
   "metadata": {},
   "outputs": [
    {
     "name": "stdin",
     "output_type": "stream",
     "text": [
      "USER:  hi\n"
     ]
    },
    {
     "name": "stdout",
     "output_type": "stream",
     "text": [
      "AI: Hello! How can I assist you today?\n"
     ]
    },
    {
     "name": "stdin",
     "output_type": "stream",
     "text": [
      "USER:  alright\n"
     ]
    },
    {
     "name": "stdout",
     "output_type": "stream",
     "text": [
      "AI: Great! What would you like to talk about or ask?\n"
     ]
    }
   ],
   "source": [
    "from kani import Kani, chat_in_terminal\n",
    "from kani.engines.openai import OpenAIEngine\n",
    "\n",
    "api_key = \"sk-svcacct-1IPVWhZrGhpKqv9OsyFNej3covM8DXXGnZDjKLAsD4Im_0xdFzQV3OSfrb26Mr1XGqRT3BlbkFJbxy4LMliwWxWlA2dwBz3vXpLm0Heg7immHGySQJwr4MTHj4WOWnZ4elAl2kkepGJOwAA\"\n",
    "engine = OpenAIEngine(api_key, model=\"gpt-4o-mini\")\n",
    "ai = Kani(engine)\n",
    "chat_in_terminal(ai)"
   ]
  },
  {
   "cell_type": "code",
   "execution_count": 6,
   "id": "8cc8996c-7aa0-4b1a-b715-442270d0b471",
   "metadata": {},
   "outputs": [],
   "source": [
    "saved_object = ai.save(\"temp_123.json\")"
   ]
  },
  {
   "cell_type": "code",
   "execution_count": 7,
   "id": "e8f68fd0-f342-4a17-9f5e-0e87697878b9",
   "metadata": {},
   "outputs": [],
   "source": [
    "("
   ]
  },
  {
   "cell_type": "code",
   "execution_count": 4,
   "id": "b83aae22-081c-436b-b6a0-6be00f747b68",
   "metadata": {},
   "outputs": [
    {
     "data": {
      "text/plain": [
       "[ChatMessage(role=<ChatRole.USER: 'user'>, content='hi', name=None, tool_call_id=None, tool_calls=None, is_tool_call_error=None),\n",
       " ChatMessage(role=<ChatRole.ASSISTANT: 'assistant'>, content='Hello! How can I assist you today?', name=None, tool_call_id=None, tool_calls=[], is_tool_call_error=None),\n",
       " ChatMessage(role=<ChatRole.USER: 'user'>, content='alright', name=None, tool_call_id=None, tool_calls=None, is_tool_call_error=None),\n",
       " ChatMessage(role=<ChatRole.ASSISTANT: 'assistant'>, content='Great! What would you like to talk about or ask?', name=None, tool_call_id=None, tool_calls=[], is_tool_call_error=None)]"
      ]
     },
     "execution_count": 4,
     "metadata": {},
     "output_type": "execute_result"
    }
   ],
   "source": [
    "ai.chat_history"
   ]
  },
  {
   "cell_type": "code",
   "execution_count": 4,
   "id": "a551d9f3-91b5-4d29-9cf9-53fe3a0a2b37",
   "metadata": {},
   "outputs": [
    {
     "name": "stdout",
     "output_type": "stream",
     "text": [
      "The question of the airspeed velocity of an unladen swallow is a humorous reference from the movie \"Monty Python and the Holy Grail.\" In a more scientific context, the airspeed velocity of a European swallow is estimated to be around 11 meters per second (approximately 24 miles per hour). However, it’s important to note that this is a playful question rather than one with a straightforward answer, as it often leads to playful debates about species, weight, and various aspects of ornithology!\n"
     ]
    }
   ],
   "source": [
    "import asyncio\n",
    "# or you can use kani programmatically in an async function!\n",
    "async def main():\n",
    "    resp = await ai.chat_round(\"What is the airspeed velocity of an unladen swallow?\")\n",
    "    print(resp.text)\n",
    "\n",
    "\n",
    "asyncio.run(main())"
   ]
  },
  {
   "cell_type": "code",
   "execution_count": 7,
   "id": "8843920f-eb46-4afb-991e-98ccfbcf7b37",
   "metadata": {},
   "outputs": [],
   "source": [
    "ai.save(\"pytest.json\")\n",
    "loaded = Kani(engine)\n",
    "loaded.load(\"pytest.json\")\n",
    "\n",
    "# assert equality\n",
    "assert ai.always_included_messages == loaded.always_included_messages\n",
    "assert ai.chat_history == loaded.chat_history"
   ]
  },
  {
   "cell_type": "code",
   "execution_count": 9,
   "id": "becf647a-0eab-4d1e-a144-73b25888b07c",
   "metadata": {},
   "outputs": [
    {
     "data": {
      "text/plain": [
       "ChatMessage(role=<ChatRole.ASSISTANT: 'assistant'>, content='The question about the airspeed velocity of an unladen swallow is famously referenced in the film \"Monty Python and the Holy Grail.\" In a more scientific context, the airspeed velocity of an unladen European swallow has been estimated to be around 11 meters per second (about 24 miles per hour) based on studies of bird flight dynamics.\\n\\nIn essence, the answer can vary depending on the species of swallow and the conditions of flight, but it’s primarily used humorously as part of pop culture. If you\\'re looking for a specific context or more detailed information, feel free to clarify!', name=None, tool_call_id=None, tool_calls=None, is_tool_call_error=None)"
      ]
     },
     "execution_count": 9,
     "metadata": {},
     "output_type": "execute_result"
    }
   ],
   "source": [
    "ai.chat_history[-1]"
   ]
  },
  {
   "cell_type": "code",
   "execution_count": 18,
   "id": "106384b4-f8d5-4cf5-85fd-79fa5d47e896",
   "metadata": {},
   "outputs": [],
   "source": [
    "async def generate_response(engine, state, data):\n",
    "    ai = Kani(engine)\n",
    "    ai.load(state)\n",
    "    resp = await ai.chat_round_str(data)\n",
    "    return resp\n",
    "    "
   ]
  },
  {
   "cell_type": "code",
   "execution_count": 20,
   "id": "86ca3041-19f8-4a19-b41c-0be350db2d78",
   "metadata": {},
   "outputs": [
    {
     "name": "stderr",
     "output_type": "stream",
     "text": [
      "/var/folders/kp/0vgq6t0546x2dvvpdn54dcc40000gn/T/ipykernel_51444/1328056779.py:4: RuntimeWarning: coroutine 'generate_response' was never awaited\n",
      "  resp = asyncio.run(generate_response(engine, state, data))\n",
      "RuntimeWarning: Enable tracemalloc to get the object allocation traceback\n"
     ]
    }
   ],
   "source": [
    "engine = OpenAIEngine(api_key, model=\"gpt-4o-mini\")\n",
    "state = \"pytest.json\"\n",
    "data = \"Where were we?\"\n",
    "resp = asyncio.run(generate_response(engine, state, data))"
   ]
  },
  {
   "cell_type": "code",
   "execution_count": 21,
   "id": "3414a490-f8ba-4816-9dd5-07756e56ae3d",
   "metadata": {},
   "outputs": [
    {
     "name": "stdout",
     "output_type": "stream",
     "text": [
      "We were discussing the creation of a minimal backend for a chat application, outlining its structure, components, and providing a simple implementation using Node.js, Express, and WebSocket. If you'd like to continue exploring that topic, dive into specific details, or switch to something else, just let me know!\n"
     ]
    }
   ],
   "source": [
    "print(resp)"
   ]
  },
  {
   "cell_type": "code",
   "execution_count": 22,
   "id": "bf9ef1e1-072d-49ca-961e-9e1eaa572b5d",
   "metadata": {},
   "outputs": [],
   "source": [
    "engine = OpenAIEngine(api_key, model=\"gpt-4o-mini\")\n",
    "state = \"pytest.json\"\n",
    "data = \"didnt we discuss more\"\n",
    "resp = asyncio.run(generate_response(engine, state, data))"
   ]
  },
  {
   "cell_type": "code",
   "execution_count": 23,
   "id": "2cd52c7a-3283-4737-b691-31592719519d",
   "metadata": {},
   "outputs": [
    {
     "name": "stdout",
     "output_type": "stream",
     "text": [
      "It seems we haven't delved deeply into the topic of swallows or their flight characteristics in our current conversation, just touched on the Monty Python reference. If you want to discuss more about swallows, their behavior, flight dynamics, or any other related topic, I'd be happy to help! What specific aspect are you interested in?\n"
     ]
    }
   ],
   "source": [
    "print(resp)"
   ]
  },
  {
   "cell_type": "code",
   "execution_count": 5,
   "id": "94d52e59-a653-4476-b094-858668103d71",
   "metadata": {},
   "outputs": [],
   "source": [
    "async def generate_response(engine, state, data, system_prompt):\n",
    "    ai = Kani(engine, system_prompt)\n",
    "    ai.load(state)\n",
    "    resp = await ai.chat_round_str(data)\n",
    "    ai.save(state)\n",
    "    return resp"
   ]
  },
  {
   "cell_type": "code",
   "execution_count": 9,
   "id": "4318e6fb-979e-4150-8f7c-40795796bc15",
   "metadata": {},
   "outputs": [
    {
     "ename": "FileNotFoundError",
     "evalue": "[Errno 2] No such file or directory: 'pytest_new.json'",
     "output_type": "error",
     "traceback": [
      "\u001b[0;31m---------------------------------------------------------------------------\u001b[0m",
      "\u001b[0;31mFileNotFoundError\u001b[0m                         Traceback (most recent call last)",
      "Cell \u001b[0;32mIn[9], line 5\u001b[0m\n\u001b[1;32m      3\u001b[0m data \u001b[38;5;241m=\u001b[39m \u001b[38;5;124m\"\u001b[39m\u001b[38;5;124mdidnt we discuss more\u001b[39m\u001b[38;5;124m\"\u001b[39m\n\u001b[1;32m      4\u001b[0m system_prompt \u001b[38;5;241m=\u001b[39m \u001b[38;5;124m\"\u001b[39m\u001b[38;5;124myoda\u001b[39m\u001b[38;5;124m\"\u001b[39m\n\u001b[0;32m----> 5\u001b[0m resp \u001b[38;5;241m=\u001b[39m \u001b[43masyncio\u001b[49m\u001b[38;5;241;43m.\u001b[39;49m\u001b[43mrun\u001b[49m\u001b[43m(\u001b[49m\u001b[43mgenerate_response\u001b[49m\u001b[43m(\u001b[49m\u001b[43mengine\u001b[49m\u001b[43m,\u001b[49m\u001b[43m \u001b[49m\u001b[43mstate\u001b[49m\u001b[43m,\u001b[49m\u001b[43m \u001b[49m\u001b[43mdata\u001b[49m\u001b[43m,\u001b[49m\u001b[43m \u001b[49m\u001b[43msystem_prompt\u001b[49m\u001b[43m)\u001b[49m\u001b[43m)\u001b[49m\n",
      "File \u001b[0;32m~/.local/share/virtualenvs/jarvis-TrgTPVo_/lib/python3.11/site-packages/nest_asyncio.py:30\u001b[0m, in \u001b[0;36m_patch_asyncio.<locals>.run\u001b[0;34m(main, debug)\u001b[0m\n\u001b[1;32m     28\u001b[0m task \u001b[38;5;241m=\u001b[39m asyncio\u001b[38;5;241m.\u001b[39mensure_future(main)\n\u001b[1;32m     29\u001b[0m \u001b[38;5;28;01mtry\u001b[39;00m:\n\u001b[0;32m---> 30\u001b[0m     \u001b[38;5;28;01mreturn\u001b[39;00m \u001b[43mloop\u001b[49m\u001b[38;5;241;43m.\u001b[39;49m\u001b[43mrun_until_complete\u001b[49m\u001b[43m(\u001b[49m\u001b[43mtask\u001b[49m\u001b[43m)\u001b[49m\n\u001b[1;32m     31\u001b[0m \u001b[38;5;28;01mfinally\u001b[39;00m:\n\u001b[1;32m     32\u001b[0m     \u001b[38;5;28;01mif\u001b[39;00m \u001b[38;5;129;01mnot\u001b[39;00m task\u001b[38;5;241m.\u001b[39mdone():\n",
      "File \u001b[0;32m~/.local/share/virtualenvs/jarvis-TrgTPVo_/lib/python3.11/site-packages/nest_asyncio.py:98\u001b[0m, in \u001b[0;36m_patch_loop.<locals>.run_until_complete\u001b[0;34m(self, future)\u001b[0m\n\u001b[1;32m     95\u001b[0m \u001b[38;5;28;01mif\u001b[39;00m \u001b[38;5;129;01mnot\u001b[39;00m f\u001b[38;5;241m.\u001b[39mdone():\n\u001b[1;32m     96\u001b[0m     \u001b[38;5;28;01mraise\u001b[39;00m \u001b[38;5;167;01mRuntimeError\u001b[39;00m(\n\u001b[1;32m     97\u001b[0m         \u001b[38;5;124m'\u001b[39m\u001b[38;5;124mEvent loop stopped before Future completed.\u001b[39m\u001b[38;5;124m'\u001b[39m)\n\u001b[0;32m---> 98\u001b[0m \u001b[38;5;28;01mreturn\u001b[39;00m \u001b[43mf\u001b[49m\u001b[38;5;241;43m.\u001b[39;49m\u001b[43mresult\u001b[49m\u001b[43m(\u001b[49m\u001b[43m)\u001b[49m\n",
      "File \u001b[0;32m/opt/homebrew/Cellar/python@3.11/3.11.9/Frameworks/Python.framework/Versions/3.11/lib/python3.11/asyncio/futures.py:203\u001b[0m, in \u001b[0;36mFuture.result\u001b[0;34m(self)\u001b[0m\n\u001b[1;32m    201\u001b[0m \u001b[38;5;28mself\u001b[39m\u001b[38;5;241m.\u001b[39m__log_traceback \u001b[38;5;241m=\u001b[39m \u001b[38;5;28;01mFalse\u001b[39;00m\n\u001b[1;32m    202\u001b[0m \u001b[38;5;28;01mif\u001b[39;00m \u001b[38;5;28mself\u001b[39m\u001b[38;5;241m.\u001b[39m_exception \u001b[38;5;129;01mis\u001b[39;00m \u001b[38;5;129;01mnot\u001b[39;00m \u001b[38;5;28;01mNone\u001b[39;00m:\n\u001b[0;32m--> 203\u001b[0m     \u001b[38;5;28;01mraise\u001b[39;00m \u001b[38;5;28mself\u001b[39m\u001b[38;5;241m.\u001b[39m_exception\u001b[38;5;241m.\u001b[39mwith_traceback(\u001b[38;5;28mself\u001b[39m\u001b[38;5;241m.\u001b[39m_exception_tb)\n\u001b[1;32m    204\u001b[0m \u001b[38;5;28;01mreturn\u001b[39;00m \u001b[38;5;28mself\u001b[39m\u001b[38;5;241m.\u001b[39m_result\n",
      "File \u001b[0;32m/opt/homebrew/Cellar/python@3.11/3.11.9/Frameworks/Python.framework/Versions/3.11/lib/python3.11/asyncio/tasks.py:277\u001b[0m, in \u001b[0;36mTask.__step\u001b[0;34m(***failed resolving arguments***)\u001b[0m\n\u001b[1;32m    273\u001b[0m \u001b[38;5;28;01mtry\u001b[39;00m:\n\u001b[1;32m    274\u001b[0m     \u001b[38;5;28;01mif\u001b[39;00m exc \u001b[38;5;129;01mis\u001b[39;00m \u001b[38;5;28;01mNone\u001b[39;00m:\n\u001b[1;32m    275\u001b[0m         \u001b[38;5;66;03m# We use the `send` method directly, because coroutines\u001b[39;00m\n\u001b[1;32m    276\u001b[0m         \u001b[38;5;66;03m# don't have `__iter__` and `__next__` methods.\u001b[39;00m\n\u001b[0;32m--> 277\u001b[0m         result \u001b[38;5;241m=\u001b[39m coro\u001b[38;5;241m.\u001b[39msend(\u001b[38;5;28;01mNone\u001b[39;00m)\n\u001b[1;32m    278\u001b[0m     \u001b[38;5;28;01melse\u001b[39;00m:\n\u001b[1;32m    279\u001b[0m         result \u001b[38;5;241m=\u001b[39m coro\u001b[38;5;241m.\u001b[39mthrow(exc)\n",
      "Cell \u001b[0;32mIn[5], line 3\u001b[0m, in \u001b[0;36mgenerate_response\u001b[0;34m(engine, state, data, system_prompt)\u001b[0m\n\u001b[1;32m      1\u001b[0m \u001b[38;5;28;01masync\u001b[39;00m \u001b[38;5;28;01mdef\u001b[39;00m\u001b[38;5;250m \u001b[39m\u001b[38;5;21mgenerate_response\u001b[39m(engine, state, data, system_prompt):\n\u001b[1;32m      2\u001b[0m     ai \u001b[38;5;241m=\u001b[39m Kani(engine, system_prompt)\n\u001b[0;32m----> 3\u001b[0m     \u001b[43mai\u001b[49m\u001b[38;5;241;43m.\u001b[39;49m\u001b[43mload\u001b[49m\u001b[43m(\u001b[49m\u001b[43mstate\u001b[49m\u001b[43m)\u001b[49m\n\u001b[1;32m      4\u001b[0m     resp \u001b[38;5;241m=\u001b[39m \u001b[38;5;28;01mawait\u001b[39;00m ai\u001b[38;5;241m.\u001b[39mchat_round_str(data)\n\u001b[1;32m      5\u001b[0m     ai\u001b[38;5;241m.\u001b[39msave(state)\n",
      "File \u001b[0;32m~/.local/share/virtualenvs/jarvis-TrgTPVo_/lib/python3.11/site-packages/kani/kani.py:561\u001b[0m, in \u001b[0;36mKani.load\u001b[0;34m(self, fp, **kwargs)\u001b[0m\n\u001b[1;32m    555\u001b[0m \u001b[38;5;28;01mdef\u001b[39;00m\u001b[38;5;250m \u001b[39m\u001b[38;5;21mload\u001b[39m(\u001b[38;5;28mself\u001b[39m, fp: PathLike, \u001b[38;5;241m*\u001b[39m\u001b[38;5;241m*\u001b[39mkwargs):\n\u001b[1;32m    556\u001b[0m \u001b[38;5;250m    \u001b[39m\u001b[38;5;124;03m\"\"\"Load chat state from a JSON file into this kani. This will overwrite any existing chat state!\u001b[39;00m\n\u001b[1;32m    557\u001b[0m \n\u001b[1;32m    558\u001b[0m \u001b[38;5;124;03m    :param fp: The path to the file containing the chat state.\u001b[39;00m\n\u001b[1;32m    559\u001b[0m \u001b[38;5;124;03m    :param kwargs: Additional arguments to pass to Pydantic's ``model_validate_json``.\u001b[39;00m\n\u001b[1;32m    560\u001b[0m \u001b[38;5;124;03m    \"\"\"\u001b[39;00m\n\u001b[0;32m--> 561\u001b[0m     \u001b[38;5;28;01mwith\u001b[39;00m \u001b[38;5;28;43mopen\u001b[39;49m\u001b[43m(\u001b[49m\u001b[43mfp\u001b[49m\u001b[43m,\u001b[49m\u001b[43m \u001b[49m\u001b[43mencoding\u001b[49m\u001b[38;5;241;43m=\u001b[39;49m\u001b[38;5;124;43m\"\u001b[39;49m\u001b[38;5;124;43mutf-8\u001b[39;49m\u001b[38;5;124;43m\"\u001b[39;49m\u001b[43m)\u001b[49m \u001b[38;5;28;01mas\u001b[39;00m f:\n\u001b[1;32m    562\u001b[0m         data \u001b[38;5;241m=\u001b[39m f\u001b[38;5;241m.\u001b[39mread()\n\u001b[1;32m    563\u001b[0m     state \u001b[38;5;241m=\u001b[39m SavedKani\u001b[38;5;241m.\u001b[39mmodel_validate_json(data, \u001b[38;5;241m*\u001b[39m\u001b[38;5;241m*\u001b[39mkwargs)\n",
      "\u001b[0;31mFileNotFoundError\u001b[0m: [Errno 2] No such file or directory: 'pytest_new.json'"
     ]
    }
   ],
   "source": [
    "engine = OpenAIEngine(api_key, model=\"gpt-4o-mini\")\n",
    "state = \"pytest_new.json\"\n",
    "data = \"didnt we discuss more\"\n",
    "system_prompt = \"yoda\"\n",
    "resp = asyncio.run(generate_response(engine, state, data, system_prompt))"
   ]
  },
  {
   "cell_type": "code",
   "execution_count": 8,
   "id": "cfe0399b-ced7-4139-ad9d-c77ecc02c603",
   "metadata": {},
   "outputs": [
    {
     "name": "stdout",
     "output_type": "stream",
     "text": [
      "It seems we jumped straight into the specifics! The airspeed velocity of an unladen swallow is often brought up in a humorous or trivia-related context. If you'd like to dive deeper into a specific aspect of swallows, ornithology, or perhaps the relevance of the quote in popular culture, let me know! Otherwise, we can also explore related topics or move on to something else entirely. What are you interested in discussing further?\n"
     ]
    }
   ],
   "source": [
    "print(resp)"
   ]
  },
  {
   "cell_type": "code",
   "execution_count": 8,
   "id": "b09eae48-ec07-430d-aa89-bf3ce1e23482",
   "metadata": {},
   "outputs": [],
   "source": [
    "instructions = \"assistatnt 2\"\n",
    "engine = OpenAIEngine(api_key, model=\"gpt-4o-mini\")\n",
    "assistant = Kani(engine, system_prompt=instructions)"
   ]
  },
  {
   "cell_type": "code",
   "execution_count": 9,
   "id": "24a2f974-8a9b-4b4c-b88f-2233abca2de9",
   "metadata": {},
   "outputs": [
    {
     "data": {
      "text/plain": [
       "[]"
      ]
     },
     "execution_count": 9,
     "metadata": {},
     "output_type": "execute_result"
    }
   ],
   "source": [
    "assistant.chat_history"
   ]
  },
  {
   "cell_type": "code",
   "execution_count": 13,
   "id": "706eabec-d9da-4b36-9973-198869c5799f",
   "metadata": {},
   "outputs": [
    {
     "data": {
      "text/plain": [
       "ChatMessage(role=<ChatRole.ASSISTANT: 'assistant'>, content='Hello! How can I assist you today?', name=None, tool_call_id=None, tool_calls=None, is_tool_call_error=None)"
      ]
     },
     "execution_count": 13,
     "metadata": {},
     "output_type": "execute_result"
    }
   ],
   "source": [
    "await assistant.chat_round(\"hi\")"
   ]
  },
  {
   "cell_type": "code",
   "execution_count": 14,
   "id": "3714f10a-7072-4c22-b5bb-e998cea9b2cc",
   "metadata": {},
   "outputs": [
    {
     "data": {
      "text/plain": [
       "[ChatMessage(role=<ChatRole.USER: 'user'>, content='hi', name=None, tool_call_id=None, tool_calls=None, is_tool_call_error=None),\n",
       " ChatMessage(role=<ChatRole.ASSISTANT: 'assistant'>, content='Hello! How can I assist you today?', name=None, tool_call_id=None, tool_calls=None, is_tool_call_error=None)]"
      ]
     },
     "execution_count": 14,
     "metadata": {},
     "output_type": "execute_result"
    }
   ],
   "source": [
    "assistant.chat_history"
   ]
  },
  {
   "cell_type": "code",
   "execution_count": 15,
   "id": "c6b8ce68-7460-4db9-8f2e-7b74e82c0426",
   "metadata": {},
   "outputs": [],
   "source": [
    "save = assistant.chat_history"
   ]
  },
  {
   "cell_type": "code",
   "execution_count": 16,
   "id": "101e124f-2ce8-4916-a49b-ff170a0b3b52",
   "metadata": {},
   "outputs": [
    {
     "data": {
      "text/plain": [
       "[ChatMessage(role=<ChatRole.USER: 'user'>, content='hi', name=None, tool_call_id=None, tool_calls=None, is_tool_call_error=None),\n",
       " ChatMessage(role=<ChatRole.ASSISTANT: 'assistant'>, content='Hello! How can I assist you today?', name=None, tool_call_id=None, tool_calls=None, is_tool_call_error=None)]"
      ]
     },
     "execution_count": 16,
     "metadata": {},
     "output_type": "execute_result"
    }
   ],
   "source": [
    "save"
   ]
  },
  {
   "cell_type": "code",
   "execution_count": 17,
   "id": "76718dff-9034-4ca3-8c39-ed377615e147",
   "metadata": {},
   "outputs": [],
   "source": [
    "instructions = \"assistatnt 2\"\n",
    "engine = OpenAIEngine(api_key, model=\"gpt-4o-mini\")\n",
    "assistant = Kani(engine, system_prompt=instructions)"
   ]
  },
  {
   "cell_type": "code",
   "execution_count": 18,
   "id": "56992954-6f98-4bdf-9cd3-ab0139493e3d",
   "metadata": {},
   "outputs": [
    {
     "data": {
      "text/plain": [
       "[]"
      ]
     },
     "execution_count": 18,
     "metadata": {},
     "output_type": "execute_result"
    }
   ],
   "source": [
    "assistant.chat_history"
   ]
  },
  {
   "cell_type": "code",
   "execution_count": 19,
   "id": "0ebdbc7c-a3e8-478c-88ab-340585e84d6a",
   "metadata": {},
   "outputs": [],
   "source": [
    "assistant.chat_history = save"
   ]
  },
  {
   "cell_type": "code",
   "execution_count": 20,
   "id": "fcc69a97-0a68-4b1f-b7c1-8cdcf00d46c8",
   "metadata": {},
   "outputs": [
    {
     "data": {
      "text/plain": [
       "[ChatMessage(role=<ChatRole.USER: 'user'>, content='hi', name=None, tool_call_id=None, tool_calls=None, is_tool_call_error=None),\n",
       " ChatMessage(role=<ChatRole.ASSISTANT: 'assistant'>, content='Hello! How can I assist you today?', name=None, tool_call_id=None, tool_calls=None, is_tool_call_error=None)]"
      ]
     },
     "execution_count": 20,
     "metadata": {},
     "output_type": "execute_result"
    }
   ],
   "source": [
    "assistant.chat_history"
   ]
  },
  {
   "cell_type": "code",
   "execution_count": 21,
   "id": "240410aa-572a-4ed6-94b7-69b1bbae13ae",
   "metadata": {},
   "outputs": [
    {
     "data": {
      "text/plain": [
       "ChatMessage(role=<ChatRole.ASSISTANT: 'assistant'>, content='It seems like we might have had a previous conversation, but I don’t have the context from it. Could you please remind me what we were discussing or what you need help with?', name=None, tool_call_id=None, tool_calls=None, is_tool_call_error=None)"
      ]
     },
     "execution_count": 21,
     "metadata": {},
     "output_type": "execute_result"
    }
   ],
   "source": [
    "await assistant.chat_round(\"where were we\")"
   ]
  },
  {
   "cell_type": "code",
   "execution_count": 22,
   "id": "486a522e-66ae-48a7-a4a7-7111feabc861",
   "metadata": {},
   "outputs": [
    {
     "data": {
      "text/plain": [
       "[ChatMessage(role=<ChatRole.USER: 'user'>, content='hi', name=None, tool_call_id=None, tool_calls=None, is_tool_call_error=None),\n",
       " ChatMessage(role=<ChatRole.ASSISTANT: 'assistant'>, content='Hello! How can I assist you today?', name=None, tool_call_id=None, tool_calls=None, is_tool_call_error=None),\n",
       " ChatMessage(role=<ChatRole.USER: 'user'>, content='where were we', name=None, tool_call_id=None, tool_calls=None, is_tool_call_error=None),\n",
       " ChatMessage(role=<ChatRole.ASSISTANT: 'assistant'>, content='It seems like we might have had a previous conversation, but I don’t have the context from it. Could you please remind me what we were discussing or what you need help with?', name=None, tool_call_id=None, tool_calls=None, is_tool_call_error=None)]"
      ]
     },
     "execution_count": 22,
     "metadata": {},
     "output_type": "execute_result"
    }
   ],
   "source": [
    "assistant.chat_history"
   ]
  },
  {
   "cell_type": "code",
   "execution_count": 23,
   "id": "1a455ac6-608e-45a6-b42e-ad09dd70e15b",
   "metadata": {},
   "outputs": [
    {
     "data": {
      "text/plain": [
       "ChatMessage(role=<ChatRole.ASSISTANT: 'assistant'>, content='Great! What specific aspects of airplanes would you like to discuss? Are you interested in their design, how they work, different types, historical developments, or something else?', name=None, tool_call_id=None, tool_calls=None, is_tool_call_error=None)"
      ]
     },
     "execution_count": 23,
     "metadata": {},
     "output_type": "execute_result"
    }
   ],
   "source": [
    "await assistant.chat_round(\"airplanes\")"
   ]
  },
  {
   "cell_type": "code",
   "execution_count": 24,
   "id": "de54a884-7ccb-40bc-9c4c-e4bb429fc9ca",
   "metadata": {},
   "outputs": [],
   "source": [
    "save = assistant.chat_history"
   ]
  },
  {
   "cell_type": "code",
   "execution_count": 25,
   "id": "7e6c6335-71cf-4205-8fed-6b57622e4e50",
   "metadata": {},
   "outputs": [],
   "source": [
    "instructions = \"assistatnt 2\"\n",
    "engine = OpenAIEngine(api_key, model=\"gpt-4o-mini\")\n",
    "assistant = Kani(engine, system_prompt=instructions)"
   ]
  },
  {
   "cell_type": "code",
   "execution_count": 26,
   "id": "adf7b6e2-992b-4e44-b13f-636278e806ee",
   "metadata": {},
   "outputs": [
    {
     "data": {
      "text/plain": [
       "[]"
      ]
     },
     "execution_count": 26,
     "metadata": {},
     "output_type": "execute_result"
    }
   ],
   "source": [
    "assistant.chat_history"
   ]
  },
  {
   "cell_type": "code",
   "execution_count": 27,
   "id": "85a39f4a-11fe-4f00-ad16-533d5666862b",
   "metadata": {},
   "outputs": [],
   "source": [
    "assistant.chat_history = save"
   ]
  },
  {
   "cell_type": "code",
   "execution_count": 28,
   "id": "f3f99be8-7ee5-4114-b74c-e9cb65a917dd",
   "metadata": {},
   "outputs": [
    {
     "data": {
      "text/plain": [
       "ChatMessage(role=<ChatRole.ASSISTANT: 'assistant'>, content='There are many interesting topics related to airplanes! Here are a few suggestions:\\n\\n1. **Aerodynamics**: How the shape of an airplane affects its ability to fly.\\n2. **Aircraft Types**: Differences between commercial, military, and private aircraft.\\n3. **Engineering and Design**: The technology and materials used in modern aircraft, including advancements like composite materials.\\n4. **Flight Mechanics**: Understanding lift, drag, thrust, and weight, and how they interact during flight.\\n5. **History of Aviation**: Key milestones in aviation history, such as the Wright Brothers, jet engines, and space travel.\\n6. **Air Traffic Control**: How air traffic management works and the systems in place to ensure safe flights.\\n7. **Safety and Regulations**: The measures taken to ensure air travel safety and the regulations governing the aviation industry.\\n8. **Environmental Impact**: The impact of aviation on the environment and ongoing efforts to create more sustainable aircraft.\\n9. **Future of Aviation**: Innovations in aviation technology, such as electric planes and autonomous flying systems.\\n\\nLet me know if any of these catch your interest or if there’s another specific topic you have in mind!', name=None, tool_call_id=None, tool_calls=None, is_tool_call_error=None)"
      ]
     },
     "execution_count": 28,
     "metadata": {},
     "output_type": "execute_result"
    }
   ],
   "source": [
    "await assistant.chat_round(\"what else?\")"
   ]
  },
  {
   "cell_type": "code",
   "execution_count": null,
   "id": "40897a1f-1411-46af-94dd-97d7d3e14c77",
   "metadata": {},
   "outputs": [],
   "source": []
  }
 ],
 "metadata": {
  "kernelspec": {
   "display_name": "Python 3 (ipykernel)",
   "language": "python",
   "name": "python3"
  },
  "language_info": {
   "codemirror_mode": {
    "name": "ipython",
    "version": 3
   },
   "file_extension": ".py",
   "mimetype": "text/x-python",
   "name": "python",
   "nbconvert_exporter": "python",
   "pygments_lexer": "ipython3",
   "version": "3.11.6"
  }
 },
 "nbformat": 4,
 "nbformat_minor": 5
}
