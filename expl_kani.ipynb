{
 "cells": [
  {
   "cell_type": "code",
   "execution_count": 3,
   "id": "e74580b0-f901-4726-aa38-b35eea9f213e",
   "metadata": {},
   "outputs": [],
   "source": [
    "from kani import Kani, chat_in_terminal\n",
    "from kani.engines.openai import OpenAIEngine\n",
    "\n",
    "api_key = \"\"\n",
    "engine = OpenAIEngine(api_key, model=\"gpt-4o-mini\")\n",
    "ai = Kani(engine)\n",
    "chat_in_terminal(ai)"
   ]
  },
  {
   "cell_type": "code",
   "execution_count": 2,
   "id": "b83aae22-081c-436b-b6a0-6be00f747b68",
   "metadata": {},
   "outputs": [
    {
     "data": {
      "text/plain": [
       "[ChatMessage(role=<ChatRole.USER: 'user'>, content='hey kani whats up?', name=None, tool_call_id=None, tool_calls=None, is_tool_call_error=None),\n",
       " ChatMessage(role=<ChatRole.ASSISTANT: 'assistant'>, content=\"Hello! I'm here and ready to help you with anything you need. What's on your mind?\", name=None, tool_call_id=None, tool_calls=[], is_tool_call_error=None),\n",
       " ChatMessage(role=<ChatRole.USER: 'user'>, content='coding', name=None, tool_call_id=None, tool_calls=None, is_tool_call_error=None),\n",
       " ChatMessage(role=<ChatRole.ASSISTANT: 'assistant'>, content=\"Great! What specifically about coding would you like to discuss? Do you have a particular language, project, or problem you're working on?\", name=None, tool_call_id=None, tool_calls=[], is_tool_call_error=None),\n",
       " ChatMessage(role=<ChatRole.USER: 'user'>, content='create a chat app minimal backend, generic layer by layer', name=None, tool_call_id=None, tool_calls=None, is_tool_call_error=None),\n",
       " ChatMessage(role=<ChatRole.ASSISTANT: 'assistant'>, content='Creating a minimal chat app backend involves setting up a few key components. Below is a generic structure layer by layer, which you can adapt based on the technology stack you prefer. For this example, I’ll outline how to design a simple chat app using Node.js with Express and WebSocket for real-time communication.\\n\\n### Project Structure\\n\\n```\\n/chat-app\\n├── /src\\n│   ├── /config\\n│   │   └── config.js\\n│   ├── /controllers\\n│   │   └── chatController.js\\n│   ├── /models\\n│   │   └── chatModel.js\\n│   ├── /routes\\n│   │   └── chatRoutes.js\\n│   ├── /services\\n│   │   └── chatService.js\\n│   ├── server.js\\n└── package.json\\n```\\n\\n### Step-by-Step Implementation\\n\\n1. **Initialize the Project**:\\n   ```bash\\n   mkdir chat-app\\n   cd chat-app\\n   npm init -y\\n   npm install express ws\\n   ```\\n\\n2. **Create Configuration File (`config.js`)**:\\n   ```javascript\\n   // src/config/config.js\\n   module.exports = {\\n     PORT: process.env.PORT || 3000,\\n   };\\n   ```\\n\\n3. **Define the Chat Model**:\\n   ```javascript\\n   // src/models/chatModel.js\\n   let messages = [];\\n\\n   const addMessage = (message) => {\\n     messages.push(message);\\n   };\\n\\n   const getMessages = () => {\\n     return messages;\\n   };\\n\\n   module.exports = {\\n     addMessage,\\n     getMessages,\\n   };\\n   ```\\n\\n4. **Create Chat Service (`chatService.js`)**:\\n   ```javascript\\n   // src/services/chatService.js\\n   const { addMessage, getMessages } = require(\\'../models/chatModel\\');\\n\\n   const sendMessage = (message) => {\\n     addMessage(message);\\n     return getMessages();\\n   };\\n\\n   module.exports = {\\n     sendMessage,\\n   };\\n   ```\\n\\n5. **Create Chat Controller (`chatController.js`)**:\\n   ```javascript\\n   // src/controllers/chatController.js\\n   const { sendMessage } = require(\\'../services/chatService\\');\\n\\n   const handleMessage = (ws, message) => {\\n     const updatedMessages = sendMessage(message);\\n     ws.send(JSON.stringify(updatedMessages));\\n   };\\n\\n   module.exports = {\\n     handleMessage,\\n   };\\n   ```\\n\\n6. **Setup Routes (`chatRoutes.js`)**:\\n   ```javascript\\n   // src/routes/chatRoutes.js\\n   const express = require(\\'express\\');\\n   const router = express.Router();\\n\\n   // No RESTful routes in this example. We\\'ll use WebSocket for real-time communication.\\n   // You could add REST routes here if you want to save or retrieve messages via HTTP.\\n   module.exports = router;\\n   ```\\n\\n7. **Create the WebSocket Server (`server.js`)**:\\n   ```javascript\\n   // src/server.js\\n   const express = require(\\'express\\');\\n   const WebSocket = require(\\'ws\\');\\n   const { PORT } = require(\\'./config/config\\');\\n   const { handleMessage } = require(\\'./controllers/chatController\\');\\n\\n   const app = express();\\n   const server = require(\\'http\\').createServer(app);\\n   const wss = new WebSocket.Server({ server });\\n\\n   wss.on(\\'connection\\', (ws) => {\\n     console.log(\\'New client connected\\');\\n\\n     ws.on(\\'message\\', (message) => {\\n       console.log(\\'received:\\', message);\\n       handleMessage(ws, message);\\n     });\\n\\n     ws.on(\\'close\\', () => {\\n       console.log(\\'Client disconnected\\');\\n     });\\n   });\\n\\n   server.listen(PORT, () => {\\n     console.log(`Server is running on http://localhost:${PORT}`);\\n   });\\n   ```\\n\\n8. **Run the Application**:\\n   ```bash\\n   node src/server.js\\n   ```\\n\\n### Client-Side (HTML/JavaScript)\\n\\nHere’s a minimal client-side implementation to connect to your WebSocket server:\\n\\n```html\\n<!DOCTYPE html>\\n<html lang=\"en\">\\n<head>\\n    <meta charset=\"UTF-8\">\\n    <meta name=\"viewport\" content=\"width=device-width, initial-scale=1.0\">\\n    <title>Chat App</title>\\n</head>\\n<body>\\n    <h1>Chat App</h1>\\n    <div id=\"messages\"></div>\\n    <input id=\"input\" type=\"text\" placeholder=\"Type a message\"/>\\n    <button id=\"send\">Send</button>\\n\\n    <script>\\n        const ws = new WebSocket(\\'ws://localhost:3000\\');\\n\\n        ws.onmessage = function(event) {\\n            const messagesDiv = document.getElementById(\\'messages\\');\\n            messagesDiv.innerHTML = event.data.split(\\',\\').map(msg => `<p>${msg}</p>`).join(\\'\\');\\n        };\\n\\n        document.getElementById(\\'send\\').addEventListener(\\'click\\', () => {\\n            const input = document.getElementById(\\'input\\');\\n            ws.send(input.value);\\n            input.value = \\'\\';\\n        });\\n    </script>\\n</body>\\n</html>\\n```\\n\\n### Summary\\n\\nThis setup describes a minimal backend for a chat app using Node.js, Express, and WebSocket. The architecture includes layers for configuration, models, services, controllers, and routing. You can expand it further by adding additional features like user authentication, message persistence with a database, and more sophisticated message handling logic.', name=None, tool_call_id=None, tool_calls=[], is_tool_call_error=None)]"
      ]
     },
     "execution_count": 2,
     "metadata": {},
     "output_type": "execute_result"
    }
   ],
   "source": [
    "ai.chat_history"
   ]
  },
  {
   "cell_type": "code",
   "execution_count": 4,
   "id": "a551d9f3-91b5-4d29-9cf9-53fe3a0a2b37",
   "metadata": {},
   "outputs": [
    {
     "name": "stdout",
     "output_type": "stream",
     "text": [
      "The question of the airspeed velocity of an unladen swallow is a humorous reference from the movie \"Monty Python and the Holy Grail.\" In a more scientific context, the airspeed velocity of a European swallow is estimated to be around 11 meters per second (approximately 24 miles per hour). However, it’s important to note that this is a playful question rather than one with a straightforward answer, as it often leads to playful debates about species, weight, and various aspects of ornithology!\n"
     ]
    }
   ],
   "source": [
    "import asyncio\n",
    "# or you can use kani programmatically in an async function!\n",
    "async def main():\n",
    "    resp = await ai.chat_round(\"What is the airspeed velocity of an unladen swallow?\")\n",
    "    print(resp.text)\n",
    "\n",
    "\n",
    "asyncio.run(main())"
   ]
  },
  {
   "cell_type": "code",
   "execution_count": 7,
   "id": "8843920f-eb46-4afb-991e-98ccfbcf7b37",
   "metadata": {},
   "outputs": [],
   "source": [
    "ai.save(\"pytest.json\")\n",
    "loaded = Kani(engine)\n",
    "loaded.load(\"pytest.json\")\n",
    "\n",
    "# assert equality\n",
    "assert ai.always_included_messages == loaded.always_included_messages\n",
    "assert ai.chat_history == loaded.chat_history"
   ]
  },
  {
   "cell_type": "code",
   "execution_count": 9,
   "id": "becf647a-0eab-4d1e-a144-73b25888b07c",
   "metadata": {},
   "outputs": [
    {
     "data": {
      "text/plain": [
       "ChatMessage(role=<ChatRole.ASSISTANT: 'assistant'>, content='The question about the airspeed velocity of an unladen swallow is famously referenced in the film \"Monty Python and the Holy Grail.\" In a more scientific context, the airspeed velocity of an unladen European swallow has been estimated to be around 11 meters per second (about 24 miles per hour) based on studies of bird flight dynamics.\\n\\nIn essence, the answer can vary depending on the species of swallow and the conditions of flight, but it’s primarily used humorously as part of pop culture. If you\\'re looking for a specific context or more detailed information, feel free to clarify!', name=None, tool_call_id=None, tool_calls=None, is_tool_call_error=None)"
      ]
     },
     "execution_count": 9,
     "metadata": {},
     "output_type": "execute_result"
    }
   ],
   "source": [
    "ai.chat_history[-1]"
   ]
  },
  {
   "cell_type": "code",
   "execution_count": 18,
   "id": "106384b4-f8d5-4cf5-85fd-79fa5d47e896",
   "metadata": {},
   "outputs": [],
   "source": [
    "async def generate_response(engine, state, data):\n",
    "    ai = Kani(engine)\n",
    "    ai.load(state)\n",
    "    resp = await ai.chat_round_str(data)\n",
    "    return resp\n",
    "    "
   ]
  },
  {
   "cell_type": "code",
   "execution_count": 20,
   "id": "86ca3041-19f8-4a19-b41c-0be350db2d78",
   "metadata": {},
   "outputs": [
    {
     "name": "stderr",
     "output_type": "stream",
     "text": [
      "/var/folders/kp/0vgq6t0546x2dvvpdn54dcc40000gn/T/ipykernel_51444/1328056779.py:4: RuntimeWarning: coroutine 'generate_response' was never awaited\n",
      "  resp = asyncio.run(generate_response(engine, state, data))\n",
      "RuntimeWarning: Enable tracemalloc to get the object allocation traceback\n"
     ]
    }
   ],
   "source": [
    "engine = OpenAIEngine(api_key, model=\"gpt-4o-mini\")\n",
    "state = \"pytest.json\"\n",
    "data = \"Where were we?\"\n",
    "resp = asyncio.run(generate_response(engine, state, data))"
   ]
  },
  {
   "cell_type": "code",
   "execution_count": 21,
   "id": "3414a490-f8ba-4816-9dd5-07756e56ae3d",
   "metadata": {},
   "outputs": [
    {
     "name": "stdout",
     "output_type": "stream",
     "text": [
      "We were discussing the creation of a minimal backend for a chat application, outlining its structure, components, and providing a simple implementation using Node.js, Express, and WebSocket. If you'd like to continue exploring that topic, dive into specific details, or switch to something else, just let me know!\n"
     ]
    }
   ],
   "source": [
    "print(resp)"
   ]
  },
  {
   "cell_type": "code",
   "execution_count": 22,
   "id": "bf9ef1e1-072d-49ca-961e-9e1eaa572b5d",
   "metadata": {},
   "outputs": [],
   "source": [
    "engine = OpenAIEngine(api_key, model=\"gpt-4o-mini\")\n",
    "state = \"pytest.json\"\n",
    "data = \"didnt we discuss more\"\n",
    "resp = asyncio.run(generate_response(engine, state, data))"
   ]
  },
  {
   "cell_type": "code",
   "execution_count": 23,
   "id": "2cd52c7a-3283-4737-b691-31592719519d",
   "metadata": {},
   "outputs": [
    {
     "name": "stdout",
     "output_type": "stream",
     "text": [
      "It seems we haven't delved deeply into the topic of swallows or their flight characteristics in our current conversation, just touched on the Monty Python reference. If you want to discuss more about swallows, their behavior, flight dynamics, or any other related topic, I'd be happy to help! What specific aspect are you interested in?\n"
     ]
    }
   ],
   "source": [
    "print(resp)"
   ]
  },
  {
   "cell_type": "code",
   "execution_count": 5,
   "id": "94d52e59-a653-4476-b094-858668103d71",
   "metadata": {},
   "outputs": [],
   "source": [
    "async def generate_response(engine, state, data, system_prompt):\n",
    "    ai = Kani(engine, system_prompt)\n",
    "    ai.load(state)\n",
    "    resp = await ai.chat_round_str(data)\n",
    "    ai.save(state)\n",
    "    return resp"
   ]
  },
  {
   "cell_type": "code",
   "execution_count": 9,
   "id": "4318e6fb-979e-4150-8f7c-40795796bc15",
   "metadata": {},
   "outputs": [
    {
     "ename": "FileNotFoundError",
     "evalue": "[Errno 2] No such file or directory: 'pytest_new.json'",
     "output_type": "error",
     "traceback": [
      "\u001b[0;31m---------------------------------------------------------------------------\u001b[0m",
      "\u001b[0;31mFileNotFoundError\u001b[0m                         Traceback (most recent call last)",
      "Cell \u001b[0;32mIn[9], line 5\u001b[0m\n\u001b[1;32m      3\u001b[0m data \u001b[38;5;241m=\u001b[39m \u001b[38;5;124m\"\u001b[39m\u001b[38;5;124mdidnt we discuss more\u001b[39m\u001b[38;5;124m\"\u001b[39m\n\u001b[1;32m      4\u001b[0m system_prompt \u001b[38;5;241m=\u001b[39m \u001b[38;5;124m\"\u001b[39m\u001b[38;5;124myoda\u001b[39m\u001b[38;5;124m\"\u001b[39m\n\u001b[0;32m----> 5\u001b[0m resp \u001b[38;5;241m=\u001b[39m \u001b[43masyncio\u001b[49m\u001b[38;5;241;43m.\u001b[39;49m\u001b[43mrun\u001b[49m\u001b[43m(\u001b[49m\u001b[43mgenerate_response\u001b[49m\u001b[43m(\u001b[49m\u001b[43mengine\u001b[49m\u001b[43m,\u001b[49m\u001b[43m \u001b[49m\u001b[43mstate\u001b[49m\u001b[43m,\u001b[49m\u001b[43m \u001b[49m\u001b[43mdata\u001b[49m\u001b[43m,\u001b[49m\u001b[43m \u001b[49m\u001b[43msystem_prompt\u001b[49m\u001b[43m)\u001b[49m\u001b[43m)\u001b[49m\n",
      "File \u001b[0;32m~/.local/share/virtualenvs/jarvis-TrgTPVo_/lib/python3.11/site-packages/nest_asyncio.py:30\u001b[0m, in \u001b[0;36m_patch_asyncio.<locals>.run\u001b[0;34m(main, debug)\u001b[0m\n\u001b[1;32m     28\u001b[0m task \u001b[38;5;241m=\u001b[39m asyncio\u001b[38;5;241m.\u001b[39mensure_future(main)\n\u001b[1;32m     29\u001b[0m \u001b[38;5;28;01mtry\u001b[39;00m:\n\u001b[0;32m---> 30\u001b[0m     \u001b[38;5;28;01mreturn\u001b[39;00m \u001b[43mloop\u001b[49m\u001b[38;5;241;43m.\u001b[39;49m\u001b[43mrun_until_complete\u001b[49m\u001b[43m(\u001b[49m\u001b[43mtask\u001b[49m\u001b[43m)\u001b[49m\n\u001b[1;32m     31\u001b[0m \u001b[38;5;28;01mfinally\u001b[39;00m:\n\u001b[1;32m     32\u001b[0m     \u001b[38;5;28;01mif\u001b[39;00m \u001b[38;5;129;01mnot\u001b[39;00m task\u001b[38;5;241m.\u001b[39mdone():\n",
      "File \u001b[0;32m~/.local/share/virtualenvs/jarvis-TrgTPVo_/lib/python3.11/site-packages/nest_asyncio.py:98\u001b[0m, in \u001b[0;36m_patch_loop.<locals>.run_until_complete\u001b[0;34m(self, future)\u001b[0m\n\u001b[1;32m     95\u001b[0m \u001b[38;5;28;01mif\u001b[39;00m \u001b[38;5;129;01mnot\u001b[39;00m f\u001b[38;5;241m.\u001b[39mdone():\n\u001b[1;32m     96\u001b[0m     \u001b[38;5;28;01mraise\u001b[39;00m \u001b[38;5;167;01mRuntimeError\u001b[39;00m(\n\u001b[1;32m     97\u001b[0m         \u001b[38;5;124m'\u001b[39m\u001b[38;5;124mEvent loop stopped before Future completed.\u001b[39m\u001b[38;5;124m'\u001b[39m)\n\u001b[0;32m---> 98\u001b[0m \u001b[38;5;28;01mreturn\u001b[39;00m \u001b[43mf\u001b[49m\u001b[38;5;241;43m.\u001b[39;49m\u001b[43mresult\u001b[49m\u001b[43m(\u001b[49m\u001b[43m)\u001b[49m\n",
      "File \u001b[0;32m/opt/homebrew/Cellar/python@3.11/3.11.9/Frameworks/Python.framework/Versions/3.11/lib/python3.11/asyncio/futures.py:203\u001b[0m, in \u001b[0;36mFuture.result\u001b[0;34m(self)\u001b[0m\n\u001b[1;32m    201\u001b[0m \u001b[38;5;28mself\u001b[39m\u001b[38;5;241m.\u001b[39m__log_traceback \u001b[38;5;241m=\u001b[39m \u001b[38;5;28;01mFalse\u001b[39;00m\n\u001b[1;32m    202\u001b[0m \u001b[38;5;28;01mif\u001b[39;00m \u001b[38;5;28mself\u001b[39m\u001b[38;5;241m.\u001b[39m_exception \u001b[38;5;129;01mis\u001b[39;00m \u001b[38;5;129;01mnot\u001b[39;00m \u001b[38;5;28;01mNone\u001b[39;00m:\n\u001b[0;32m--> 203\u001b[0m     \u001b[38;5;28;01mraise\u001b[39;00m \u001b[38;5;28mself\u001b[39m\u001b[38;5;241m.\u001b[39m_exception\u001b[38;5;241m.\u001b[39mwith_traceback(\u001b[38;5;28mself\u001b[39m\u001b[38;5;241m.\u001b[39m_exception_tb)\n\u001b[1;32m    204\u001b[0m \u001b[38;5;28;01mreturn\u001b[39;00m \u001b[38;5;28mself\u001b[39m\u001b[38;5;241m.\u001b[39m_result\n",
      "File \u001b[0;32m/opt/homebrew/Cellar/python@3.11/3.11.9/Frameworks/Python.framework/Versions/3.11/lib/python3.11/asyncio/tasks.py:277\u001b[0m, in \u001b[0;36mTask.__step\u001b[0;34m(***failed resolving arguments***)\u001b[0m\n\u001b[1;32m    273\u001b[0m \u001b[38;5;28;01mtry\u001b[39;00m:\n\u001b[1;32m    274\u001b[0m     \u001b[38;5;28;01mif\u001b[39;00m exc \u001b[38;5;129;01mis\u001b[39;00m \u001b[38;5;28;01mNone\u001b[39;00m:\n\u001b[1;32m    275\u001b[0m         \u001b[38;5;66;03m# We use the `send` method directly, because coroutines\u001b[39;00m\n\u001b[1;32m    276\u001b[0m         \u001b[38;5;66;03m# don't have `__iter__` and `__next__` methods.\u001b[39;00m\n\u001b[0;32m--> 277\u001b[0m         result \u001b[38;5;241m=\u001b[39m coro\u001b[38;5;241m.\u001b[39msend(\u001b[38;5;28;01mNone\u001b[39;00m)\n\u001b[1;32m    278\u001b[0m     \u001b[38;5;28;01melse\u001b[39;00m:\n\u001b[1;32m    279\u001b[0m         result \u001b[38;5;241m=\u001b[39m coro\u001b[38;5;241m.\u001b[39mthrow(exc)\n",
      "Cell \u001b[0;32mIn[5], line 3\u001b[0m, in \u001b[0;36mgenerate_response\u001b[0;34m(engine, state, data, system_prompt)\u001b[0m\n\u001b[1;32m      1\u001b[0m \u001b[38;5;28;01masync\u001b[39;00m \u001b[38;5;28;01mdef\u001b[39;00m\u001b[38;5;250m \u001b[39m\u001b[38;5;21mgenerate_response\u001b[39m(engine, state, data, system_prompt):\n\u001b[1;32m      2\u001b[0m     ai \u001b[38;5;241m=\u001b[39m Kani(engine, system_prompt)\n\u001b[0;32m----> 3\u001b[0m     \u001b[43mai\u001b[49m\u001b[38;5;241;43m.\u001b[39;49m\u001b[43mload\u001b[49m\u001b[43m(\u001b[49m\u001b[43mstate\u001b[49m\u001b[43m)\u001b[49m\n\u001b[1;32m      4\u001b[0m     resp \u001b[38;5;241m=\u001b[39m \u001b[38;5;28;01mawait\u001b[39;00m ai\u001b[38;5;241m.\u001b[39mchat_round_str(data)\n\u001b[1;32m      5\u001b[0m     ai\u001b[38;5;241m.\u001b[39msave(state)\n",
      "File \u001b[0;32m~/.local/share/virtualenvs/jarvis-TrgTPVo_/lib/python3.11/site-packages/kani/kani.py:561\u001b[0m, in \u001b[0;36mKani.load\u001b[0;34m(self, fp, **kwargs)\u001b[0m\n\u001b[1;32m    555\u001b[0m \u001b[38;5;28;01mdef\u001b[39;00m\u001b[38;5;250m \u001b[39m\u001b[38;5;21mload\u001b[39m(\u001b[38;5;28mself\u001b[39m, fp: PathLike, \u001b[38;5;241m*\u001b[39m\u001b[38;5;241m*\u001b[39mkwargs):\n\u001b[1;32m    556\u001b[0m \u001b[38;5;250m    \u001b[39m\u001b[38;5;124;03m\"\"\"Load chat state from a JSON file into this kani. This will overwrite any existing chat state!\u001b[39;00m\n\u001b[1;32m    557\u001b[0m \n\u001b[1;32m    558\u001b[0m \u001b[38;5;124;03m    :param fp: The path to the file containing the chat state.\u001b[39;00m\n\u001b[1;32m    559\u001b[0m \u001b[38;5;124;03m    :param kwargs: Additional arguments to pass to Pydantic's ``model_validate_json``.\u001b[39;00m\n\u001b[1;32m    560\u001b[0m \u001b[38;5;124;03m    \"\"\"\u001b[39;00m\n\u001b[0;32m--> 561\u001b[0m     \u001b[38;5;28;01mwith\u001b[39;00m \u001b[38;5;28;43mopen\u001b[39;49m\u001b[43m(\u001b[49m\u001b[43mfp\u001b[49m\u001b[43m,\u001b[49m\u001b[43m \u001b[49m\u001b[43mencoding\u001b[49m\u001b[38;5;241;43m=\u001b[39;49m\u001b[38;5;124;43m\"\u001b[39;49m\u001b[38;5;124;43mutf-8\u001b[39;49m\u001b[38;5;124;43m\"\u001b[39;49m\u001b[43m)\u001b[49m \u001b[38;5;28;01mas\u001b[39;00m f:\n\u001b[1;32m    562\u001b[0m         data \u001b[38;5;241m=\u001b[39m f\u001b[38;5;241m.\u001b[39mread()\n\u001b[1;32m    563\u001b[0m     state \u001b[38;5;241m=\u001b[39m SavedKani\u001b[38;5;241m.\u001b[39mmodel_validate_json(data, \u001b[38;5;241m*\u001b[39m\u001b[38;5;241m*\u001b[39mkwargs)\n",
      "\u001b[0;31mFileNotFoundError\u001b[0m: [Errno 2] No such file or directory: 'pytest_new.json'"
     ]
    }
   ],
   "source": [
    "engine = OpenAIEngine(api_key, model=\"gpt-4o-mini\")\n",
    "state = \"pytest_new.json\"\n",
    "data = \"didnt we discuss more\"\n",
    "system_prompt = \"yoda\"\n",
    "resp = asyncio.run(generate_response(engine, state, data, system_prompt))"
   ]
  },
  {
   "cell_type": "code",
   "execution_count": 8,
   "id": "cfe0399b-ced7-4139-ad9d-c77ecc02c603",
   "metadata": {},
   "outputs": [
    {
     "name": "stdout",
     "output_type": "stream",
     "text": [
      "It seems we jumped straight into the specifics! The airspeed velocity of an unladen swallow is often brought up in a humorous or trivia-related context. If you'd like to dive deeper into a specific aspect of swallows, ornithology, or perhaps the relevance of the quote in popular culture, let me know! Otherwise, we can also explore related topics or move on to something else entirely. What are you interested in discussing further?\n"
     ]
    }
   ],
   "source": [
    "print(resp)"
   ]
  },
  {
   "cell_type": "code",
   "execution_count": null,
   "id": "b09eae48-ec07-430d-aa89-bf3ce1e23482",
   "metadata": {},
   "outputs": [],
   "source": []
  }
 ],
 "metadata": {
  "kernelspec": {
   "display_name": "Python 3 (ipykernel)",
   "language": "python",
   "name": "python3"
  },
  "language_info": {
   "codemirror_mode": {
    "name": "ipython",
    "version": 3
   },
   "file_extension": ".py",
   "mimetype": "text/x-python",
   "name": "python",
   "nbconvert_exporter": "python",
   "pygments_lexer": "ipython3",
   "version": "3.11.9"
  }
 },
 "nbformat": 4,
 "nbformat_minor": 5
}
